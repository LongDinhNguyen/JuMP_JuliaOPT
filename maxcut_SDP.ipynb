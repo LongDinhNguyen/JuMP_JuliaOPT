{
 "cells": [
  {
   "cell_type": "code",
   "execution_count": 1,
   "metadata": {
    "collapsed": true
   },
   "outputs": [],
   "source": [
    "#############################################################################\n",
    "# JuMP\n",
    "# An algebraic modeling langauge for Julia\n",
    "# See http://github.com/JuliaOpt/JuMP.jl\n",
    "#############################################################################\n",
    "# maxcut_sdp.jl\n",
    "#\n",
    "# Solves the SDP relaxation of the classic MAXCUT problem:\n",
    "# max   L•X\n",
    "# s.t.  diag(X) == e\n",
    "#       X ≽ 0\n",
    "# where\n",
    "#  L = 1/4(Diag(W e) - W)\n",
    "#  W = edge-weight matrix\n",
    "#  e = vector of ones, 1s\n",
    "#\n",
    "# then applies the Goemans-Williamson algorithm"
   ]
  },
  {
   "cell_type": "code",
   "execution_count": 3,
   "metadata": {},
   "outputs": [
    {
     "name": "stderr",
     "output_type": "stream",
     "text": [
      "\u001b[1m\u001b[34mINFO: Recompiling stale cache file C:\\Users\\LONG NGUYEN\\Documents\\CVXPY\\.julia\\lib\\v0.5\\SCS.ji for module SCS.\n",
      "\u001b[0m"
     ]
    },
    {
     "data": {
      "text/plain": [
       "solve_maxcut_sdp (generic function with 1 method)"
      ]
     },
     "execution_count": 3,
     "metadata": {},
     "output_type": "execute_result"
    }
   ],
   "source": [
    "using JuMP\n",
    "using SCS\n",
    "\n",
    "solver = SCSSolver(eps=1e-6)\n",
    "\n",
    "function solve_maxcut_sdp(n, W)\n",
    "    L = 0.25 * (diagm(W*ones(n)) - W)\n",
    "\n",
    "    # Solve the SDP relaxation\n",
    "    m = Model(solver=solver)\n",
    "    @variable(m, X[1:n,1:n], SDP)\n",
    "    @objective(m, Max, vecdot(L,X))\n",
    "    @constraint(m, diag(X) .== 1)\n",
    "    solve(m)\n",
    "\n",
    "    # Cholesky the result\n",
    "    F = cholfact(getvalue(X)[:,:], :U, Val{true})\n",
    "    V = (F[:P]*F[:L])'\n",
    "\n",
    "    # Normalize columns\n",
    "    for i = 1:n\n",
    "        V[:,i] ./= norm(V[:,i])\n",
    "    end\n",
    "\n",
    "    # Generate \"random\" vector\n",
    "    # - seeded on problem size for repeatability\n",
    "    # - for all the problems in this file, the\n",
    "    #   solutions are \"integral\" anyway so there\n",
    "    #   isn't really a need for this\n",
    "    r = rand(n)\n",
    "    cut = ones(n)\n",
    "    for i = 1:n\n",
    "        if sum(r' * V[:,i]) <= 0\n",
    "            cut[i] = -1\n",
    "        end\n",
    "    end\n",
    "\n",
    "    return cut, sum(L.*(cut*cut'))\n",
    "end"
   ]
  },
  {
   "cell_type": "code",
   "execution_count": 4,
   "metadata": {},
   "outputs": [
    {
     "data": {
      "text/plain": [
       "test0 (generic function with 1 method)"
      ]
     },
     "execution_count": 4,
     "metadata": {},
     "output_type": "execute_result"
    }
   ],
   "source": [
    "function test0()\n",
    "    #   [1] --- 5 --- [2]\n",
    "    #\n",
    "    # Solution:\n",
    "    #  S  = {1}\n",
    "    #  S' = {2}\n",
    "    n = 2\n",
    "    W = [0.0 5.0;\n",
    "         5.0 0.0]\n",
    "    cut, cutval = solve_maxcut_sdp(n, W)\n",
    "\n",
    "    @assert cut[1] != cut[2]\n",
    "\n",
    "    println(\"Solution for Graph 0 = $cutval\")\n",
    "    println(cut)\n",
    "end"
   ]
  },
  {
   "cell_type": "code",
   "execution_count": 5,
   "metadata": {},
   "outputs": [
    {
     "data": {
      "text/plain": [
       "test1 (generic function with 1 method)"
      ]
     },
     "execution_count": 5,
     "metadata": {},
     "output_type": "execute_result"
    }
   ],
   "source": [
    "function test1()\n",
    "    #   [1] --- 5 --- [2]\n",
    "    #    |  \\          |\n",
    "    #    |    \\        |\n",
    "    #    7      6      1\n",
    "    #    |        \\    |\n",
    "    #    |          \\  |\n",
    "    #   [3] --- 1 --- [4]\n",
    "    #\n",
    "    # Solution:\n",
    "    #  S  = {1}\n",
    "    #  S' = {2,3,4}\n",
    "    n = 4\n",
    "    W = [0.0 5.0 7.0 6.0;\n",
    "         5.0 0.0 0.0 1.0;\n",
    "         7.0 0.0 0.0 1.0;\n",
    "         6.0 1.0 1.0 0.0]\n",
    "    cut, cutval = solve_maxcut_sdp(n, W)\n",
    "    @assert (v = cut[2]) == cut[3] == cut[4]\n",
    "    @assert cut[1] != v\n",
    "\n",
    "    println(\"Solution for Graph 1 = $cutval\")\n",
    "    println(cut)\n",
    "end"
   ]
  },
  {
   "cell_type": "code",
   "execution_count": 6,
   "metadata": {},
   "outputs": [
    {
     "data": {
      "text/plain": [
       "test2 (generic function with 1 method)"
      ]
     },
     "execution_count": 6,
     "metadata": {},
     "output_type": "execute_result"
    }
   ],
   "source": [
    "function test2()\n",
    "    #   [1] --- 1 --- [2]\n",
    "    #    |             |\n",
    "    #    |             |\n",
    "    #    9             9\n",
    "    #    |             |\n",
    "    #    |             |\n",
    "    #   [3] --- 1 --- [4]\n",
    "    #\n",
    "    # Solution:\n",
    "    #  S  = {2,3}\n",
    "    #  S' = {1,4}\n",
    "    n = 4\n",
    "    W = [0.0 1.0 9.0 0.0;\n",
    "         1.0 0.0 0.0 9.0;\n",
    "         9.0 0.0 0.0 1.0;\n",
    "         0.0 9.0 1.0 0.0]\n",
    "    cut, cutval = solve_maxcut_sdp(n, W)\n",
    "    @assert (v = cut[1]) == cut[4]\n",
    "    @assert (w = cut[2]) == cut[3]\n",
    "    @assert v != w\n",
    "\n",
    "    println(\"Solution for Graph 2 = $cutval\")\n",
    "    println(cut)\n",
    "end"
   ]
  },
  {
   "cell_type": "code",
   "execution_count": null,
   "metadata": {
    "collapsed": true
   },
   "outputs": [],
   "source": []
  }
 ],
 "metadata": {
  "kernelspec": {
   "display_name": "Julia 0.5.1",
   "language": "julia",
   "name": "julia-0.5"
  },
  "language_info": {
   "file_extension": ".jl",
   "mimetype": "application/julia",
   "name": "julia",
   "version": "0.5.1"
  }
 },
 "nbformat": 4,
 "nbformat_minor": 2
}
