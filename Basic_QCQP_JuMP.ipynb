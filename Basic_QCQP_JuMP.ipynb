{
 "cells": [
  {
   "cell_type": "code",
   "execution_count": 1,
   "metadata": {
    "collapsed": true
   },
   "outputs": [],
   "source": [
    "# Taken from CVX website http://cvxr.com/cvx/examples/\n",
    "# Derived from Example: Finding the fastest mixing Markov chain on a graph\n",
    "# Ported from cvx matlab to cvxpy by Misrab Faizullah-Khan\n",
    "# Original comments below\n",
    "\n",
    "# Boyd & Vandenberghe, \"Convex Optimization\"\n",
    "# Joelle Skaf - 08/23/05\n",
    "#\n",
    "# Solved a QCQP with 3 inequalities:\n",
    "#           minimize    1/2 x'*P0*x + q0'*r + r0\n",
    "#               s.t.    1/2 x'*Pi*x + qi'*r + ri <= 0   for i=1,2,3\n",
    "# and verifies that strong duality holds."
   ]
  },
  {
   "cell_type": "code",
   "execution_count": 23,
   "metadata": {},
   "outputs": [
    {
     "name": "stdout",
     "output_type": "stream",
     "text": [
      "elapsed time: 0.12428547 seconds\n",
      "Objective value: -2.022340243108731\n",
      "x = [0.00700453,-0.0215642,0.113414,-0.0334974,-0.150977,0.0427705,-0.0140151,-0.0984363,-0.129411,-0.0567762,-0.308902,0.0557305,0.0319243,0.0282973,-0.00864252,0.199837,-0.0115714,-0.00693713,0.0365186,0.022226]\n"
     ]
    }
   ],
   "source": [
    "tic()\n",
    "using JuMP\n",
    "using Ipopt\n",
    "\n",
    "m = Model(solver = IpoptSolver())\n",
    "\n",
    "n = 20;\n",
    "\n",
    "P0 = randn(n, n)\n",
    "P0 = P0' * P0 + eye(n)\n",
    "\n",
    "# println(P0)\n",
    "\n",
    "P1 = randn(n, n); P1 = P1'*P1; P1 = P1' * P1 + eye(n);\n",
    "P2 = randn(n, n); P2 = P2'*P2; P2 = P2' * P2 + eye(n);\n",
    "P3 = randn(n, n); P3 = P3'*P3; P3 = P3' * P3 + eye(n);\n",
    "\n",
    "q0 = randn(n,1); q1 = randn(n,1); q2 = randn(n,1); q3 = randn(n,1);\n",
    "\n",
    "r0 = randn(1,1); r1 = randn(1,1); r2 = randn(1,1); r3 = randn(1,1);\n",
    "\n",
    "# println(sum(sum(P0[i,j] for i = 1:n) for j=1))\n",
    "#println(QuadExpr( [q0[i],q1[i]], [P0[i,1],P1[i,1]], [q0[i],q1[i]])  for i = 1:n)\n",
    "\n",
    "@variable(m, x[1:n])\n",
    "\n",
    "@objective(m, Min, 0.5*sum( sum(x[i]*P0[i,j]*x[i] for i = 1:n) for j=1:n ) + sum(q0[i]*x[i] for i = 1:n) + sum(r0))\n",
    "#@constraint(m, 0.5*sum( sum(x[i]*P0[i,j]*x[i] for i = 1:n) for j=1:n ) + sum(q0[i]*x[i] for i = 1:n) + r0 <= t)\n",
    "@constraint(m, 0.5*sum( sum(x[i]*P1[i,j]*x[i] for i = 1:n) for j=1:n ) + sum(q1[i]*x[i] for i = 1:n) + sum(r1) <= 100)\n",
    "@constraint(m, 0.5*sum( sum(x[i]*P2[i,j]*x[i] for i = 1:n) for j=1:n ) + sum(q2[i]*x[i] for i = 1:n) + sum(r2) <= 100)\n",
    "@constraint(m, 0.5*sum( sum(x[i]*P3[i,j]*x[i] for i = 1:n) for j=1:n ) + sum(q3[i]*x[i] for i = 1:n) + sum(r3) <= 100)\n",
    "\n",
    "#print(m)\n",
    "\n",
    "status = solve(m)\n",
    "toc()\n",
    "\n",
    "println(\"Objective value: \", getobjectivevalue(m))\n",
    "println(\"x = \", getvalue(x))\n"
   ]
  },
  {
   "cell_type": "code",
   "execution_count": null,
   "metadata": {
    "collapsed": true
   },
   "outputs": [],
   "source": []
  }
 ],
 "metadata": {
  "kernelspec": {
   "display_name": "Julia 0.5.1",
   "language": "julia",
   "name": "julia-0.5"
  },
  "language_info": {
   "file_extension": ".jl",
   "mimetype": "application/julia",
   "name": "julia",
   "version": "0.5.1"
  }
 },
 "nbformat": 4,
 "nbformat_minor": 2
}
