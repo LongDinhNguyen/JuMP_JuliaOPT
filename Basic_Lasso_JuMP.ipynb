{
 "cells": [
  {
   "cell_type": "code",
   "execution_count": 1,
   "metadata": {
    "collapsed": true
   },
   "outputs": [],
   "source": [
    "# Boyd & Vandenberghe, \"Convex Optimization\"\n",
    "#\n",
    "# Solved a Lasso problem:\n",
    "#           minimize    ||Ax - b||_2^2 + gamma*||x||_1\n",
    "#               s.t.    some constraints if have"
   ]
  },
  {
   "cell_type": "code",
   "execution_count": 12,
   "metadata": {},
   "outputs": [
    {
     "name": "stdout",
     "output_type": "stream",
     "text": [
      "elapsed time: 0.045037046 seconds\n",
      "Objective value: 124.71847081958846\n",
      "x = [-9.1748e-9,0.0249091,0.200666,-9.80973e-9,-9.68224e-9,-8.63684e-9,0.169096,0.0065999,0.037464,-9.73214e-9]\n"
     ]
    }
   ],
   "source": [
    "tic()\n",
    "using JuMP\n",
    "using Ipopt\n",
    "\n",
    "m = Model(solver = IpoptSolver())\n",
    "\n",
    "n = 10;\n",
    "\n",
    "A = randn(n, n)\n",
    "A = A' * A + eye(n)\n",
    "\n",
    "# println(P0)\n",
    "\n",
    "b = randn(n,1); \n",
    "\n",
    "gamma = 1;\n",
    "\n",
    "@variable(m, x[1:n])\n",
    "\n",
    "@objective(m, Min, sum( sum((A[i,j]*x[i] - b[i])^2 for i = 1:n) for j=1:n ) + gamma*sum(x[i] for i=1:n))\n",
    "@constraint(m, x .>= 0)\n",
    "#print(m)\n",
    "\n",
    "status = solve(m)\n",
    "toc()\n",
    "\n",
    "println(\"Objective value: \", getobjectivevalue(m))\n",
    "println(\"x = \", getvalue(x))"
   ]
  },
  {
   "cell_type": "code",
   "execution_count": null,
   "metadata": {
    "collapsed": true
   },
   "outputs": [],
   "source": []
  }
 ],
 "metadata": {
  "kernelspec": {
   "display_name": "Julia 0.5.1",
   "language": "julia",
   "name": "julia-0.5"
  },
  "language_info": {
   "file_extension": ".jl",
   "mimetype": "application/julia",
   "name": "julia",
   "version": "0.5.1"
  }
 },
 "nbformat": 4,
 "nbformat_minor": 2
}
