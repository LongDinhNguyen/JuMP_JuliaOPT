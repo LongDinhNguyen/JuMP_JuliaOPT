{
 "cells": [
  {
   "cell_type": "code",
   "execution_count": 1,
   "metadata": {
    "collapsed": true
   },
   "outputs": [],
   "source": [
    "\n",
    "#  Copyright 2017, Iain Dunning, Joey Huchette, Miles Lubin, and contributors\n",
    "#  This Source Code Form is subject to the terms of the Mozilla Public\n",
    "#  License, v. 2.0. If a copy of the MPL was not distributed with this\n",
    "#  file, You can obtain one at http://mozilla.org/MPL/2.0/.\n",
    "#############################################################################\n",
    "# JuMP\n",
    "# An algebraic modeling langauge for Julia\n",
    "# See http://github.com/JuliaOpt/JuMP.jl\n",
    "#############################################################################\n",
    "# knapsack.jl\n",
    "#\n",
    "# Solves a simple knapsack problem:\n",
    "# max sum(p_j x_j)\n",
    "#  st sum(w_j x_j) <= C\n",
    "#     x binary\n",
    "#############################################################################"
   ]
  },
  {
   "cell_type": "code",
   "execution_count": 45,
   "metadata": {},
   "outputs": [
    {
     "name": "stdout",
     "output_type": "stream",
     "text": [
      "elapsed time: 0.034042536 seconds\n",
      "Objective is: 1680.0\n",
      "Solution is:\n"
     ]
    }
   ],
   "source": [
    "tic()\n",
    "using JuMP, Cbc\n",
    "\n",
    "# Maximization problem\n",
    "m = Model(solver=CbcSolver())\n",
    "\n",
    "size_vec = 1000\n",
    "profit = rand(1:10,size_vec) # reinterpret(Int64, rand(size_vec))\n",
    "weight = rand(1:10,size_vec) # reinterpret(Int64, rand(size_vec))\n",
    "capacity = 500\n",
    "\n",
    "@variable(m, x[1:size_vec], Bin)\n",
    "\n",
    "# Objective: maximize profit\n",
    "@objective(m, Max, dot(profit, x))\n",
    "\n",
    "# Constraint: can carry all\n",
    "@constraint(m, dot(weight, x) <= capacity)\n",
    "\n",
    "# Solve problem using MIP solver\n",
    "status = solve(m)\n",
    "toc()\n",
    "\n",
    "println(\"Objective is: \", getobjectivevalue(m))\n",
    "println(\"Solution is:\")\n",
    "#for i = 1:size_vec\n",
    "#    print(\"x[$i] = \", getvalue(x[i]))\n",
    "#    println(\", p[$i]/w[$i] = \", profit[i]/weight[i])\n",
    "#end\n",
    "\n",
    "# println(\"Random profit: \", profit)\n",
    "# println(\"Random weights: \", weight)\n",
    "# println(\"x = \", getvalue(x))\n",
    "# println(\"profit/weights = \", profit./weight)\n"
   ]
  },
  {
   "cell_type": "code",
   "execution_count": null,
   "metadata": {
    "collapsed": true
   },
   "outputs": [],
   "source": []
  }
 ],
 "metadata": {
  "kernelspec": {
   "display_name": "Julia 0.5.1",
   "language": "julia",
   "name": "julia-0.5"
  },
  "language_info": {
   "file_extension": ".jl",
   "mimetype": "application/julia",
   "name": "julia",
   "version": "0.5.1"
  }
 },
 "nbformat": 4,
 "nbformat_minor": 2
}
